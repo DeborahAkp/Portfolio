{
 "cells": [
  {
   "cell_type": "markdown",
   "id": "870ccf7c",
   "metadata": {},
   "source": [
    "# The Effect of Demographic and Health Factors on Medical Insurance Costs"
   ]
  },
  {
   "cell_type": "markdown",
   "id": "d3a1a558",
   "metadata": {},
   "source": [
    "Author: Deborah Akpoguma <br>\n",
    "June 2023 "
   ]
  },
  {
   "cell_type": "markdown",
   "id": "371d8a31",
   "metadata": {},
   "source": [
    "## Introduction <a name=\"introduction\"></a>\n",
    "This project aims to explore a dataset containing information about individuals' gender, age, number of children, BMI, smoker status, region, and the cost of their medical insurance. By examining these variables, we can gain valuable insights into the factors that influence insurance costs and potentially identify patterns or trends within the data.\n",
    "\n",
    "### Questions \n",
    "- How does age impact the cost of medical insurance? Are there any noticeable trends or patterns?\n",
    "- Is there a correlation between BMI and the cost of insurance? How does weight status affect insurance costs?\n",
    "- What role does gender play in determining insurance costs? Are there any significant differences between males and females?\n",
    "- Does having children affect insurance costs? Is there a relationship between the number of children and insurance expenses?\n",
    "- How does smoking status impact insurance premiums? Are smokers charged higher rates compared to non-smokers?\n",
    "- Are there regional variations in insurance costs? Do different areas exhibit distinct pricing patterns?\n",
    "\n",
    "### Target Audience \n",
    "The intended audience for this analysis includes insurance providers, actuaries, policy analysts, and researchers in the health care or insurance industries. The findings and insights from this analysis will aid in understanding the factors that contribute to medical insurance costs and may assist in decision-making, risk assessment, and policy \n",
    " \n",
    "<hr style=\"border:1px solid black\">"
   ]
  },
  {
   "cell_type": "markdown",
   "id": "b549c46c",
   "metadata": {},
   "source": [
    "## Preparing the Environment <a name=\"preparing-the-environment\"></a>"
   ]
  },
  {
   "cell_type": "markdown",
   "id": "92a4ed0e",
   "metadata": {},
   "source": [
    "### Importing Libraries "
   ]
  },
  {
   "cell_type": "code",
   "execution_count": 1,
   "id": "d9324a90",
   "metadata": {},
   "outputs": [],
   "source": [
    "import pandas as pd \n",
    "import scipy.stats as stats\n",
    "import numpy as np\n",
    "import matplotlib.pyplot as plt\n",
    "import seaborn as sns\n",
    "%matplotlib inline"
   ]
  },
  {
   "cell_type": "markdown",
   "id": "b55e74b1",
   "metadata": {},
   "source": [
    "### Importing CSV file into python DataFrame"
   ]
  },
  {
   "cell_type": "code",
   "execution_count": 2,
   "id": "9f763730",
   "metadata": {},
   "outputs": [],
   "source": [
    "df = pd.read_csv('Medical Cost Dataset.csv')"
   ]
  },
  {
   "cell_type": "markdown",
   "id": "dd42172b",
   "metadata": {},
   "source": [
    "<hr style=\"border:1px solid black\">\n",
    "\n",
    "## Data Exploration <a name=\"data-exploration\"></a>"
   ]
  },
  {
   "cell_type": "markdown",
   "id": "d56dcfc6",
   "metadata": {},
   "source": [
    "Taking a look at the first and last five rows of the dataset"
   ]
  },
  {
   "cell_type": "code",
   "execution_count": 3,
   "id": "2f6b7928",
   "metadata": {},
   "outputs": [
    {
     "data": {
      "text/html": [
       "<div>\n",
       "<style scoped>\n",
       "    .dataframe tbody tr th:only-of-type {\n",
       "        vertical-align: middle;\n",
       "    }\n",
       "\n",
       "    .dataframe tbody tr th {\n",
       "        vertical-align: top;\n",
       "    }\n",
       "\n",
       "    .dataframe thead th {\n",
       "        text-align: right;\n",
       "    }\n",
       "</style>\n",
       "<table border=\"1\" class=\"dataframe\">\n",
       "  <thead>\n",
       "    <tr style=\"text-align: right;\">\n",
       "      <th></th>\n",
       "      <th>age</th>\n",
       "      <th>sex</th>\n",
       "      <th>bmi</th>\n",
       "      <th>children</th>\n",
       "      <th>smoker</th>\n",
       "      <th>region</th>\n",
       "      <th>charges</th>\n",
       "    </tr>\n",
       "  </thead>\n",
       "  <tbody>\n",
       "    <tr>\n",
       "      <th>0</th>\n",
       "      <td>19</td>\n",
       "      <td>female</td>\n",
       "      <td>27.900</td>\n",
       "      <td>0</td>\n",
       "      <td>yes</td>\n",
       "      <td>southwest</td>\n",
       "      <td>16884.92400</td>\n",
       "    </tr>\n",
       "    <tr>\n",
       "      <th>1</th>\n",
       "      <td>18</td>\n",
       "      <td>male</td>\n",
       "      <td>33.770</td>\n",
       "      <td>1</td>\n",
       "      <td>no</td>\n",
       "      <td>southeast</td>\n",
       "      <td>1725.55230</td>\n",
       "    </tr>\n",
       "    <tr>\n",
       "      <th>2</th>\n",
       "      <td>28</td>\n",
       "      <td>male</td>\n",
       "      <td>33.000</td>\n",
       "      <td>3</td>\n",
       "      <td>no</td>\n",
       "      <td>southeast</td>\n",
       "      <td>4449.46200</td>\n",
       "    </tr>\n",
       "    <tr>\n",
       "      <th>3</th>\n",
       "      <td>33</td>\n",
       "      <td>male</td>\n",
       "      <td>22.705</td>\n",
       "      <td>0</td>\n",
       "      <td>no</td>\n",
       "      <td>northwest</td>\n",
       "      <td>21984.47061</td>\n",
       "    </tr>\n",
       "    <tr>\n",
       "      <th>4</th>\n",
       "      <td>32</td>\n",
       "      <td>male</td>\n",
       "      <td>28.880</td>\n",
       "      <td>0</td>\n",
       "      <td>no</td>\n",
       "      <td>northwest</td>\n",
       "      <td>3866.85520</td>\n",
       "    </tr>\n",
       "  </tbody>\n",
       "</table>\n",
       "</div>"
      ],
      "text/plain": [
       "   age     sex     bmi  children smoker     region      charges\n",
       "0   19  female  27.900         0    yes  southwest  16884.92400\n",
       "1   18    male  33.770         1     no  southeast   1725.55230\n",
       "2   28    male  33.000         3     no  southeast   4449.46200\n",
       "3   33    male  22.705         0     no  northwest  21984.47061\n",
       "4   32    male  28.880         0     no  northwest   3866.85520"
      ]
     },
     "execution_count": 3,
     "metadata": {},
     "output_type": "execute_result"
    }
   ],
   "source": [
    "#first five rows of the dataset\n",
    "df.head()"
   ]
  },
  {
   "cell_type": "code",
   "execution_count": 4,
   "id": "7f127747",
   "metadata": {
    "scrolled": true
   },
   "outputs": [
    {
     "data": {
      "text/html": [
       "<div>\n",
       "<style scoped>\n",
       "    .dataframe tbody tr th:only-of-type {\n",
       "        vertical-align: middle;\n",
       "    }\n",
       "\n",
       "    .dataframe tbody tr th {\n",
       "        vertical-align: top;\n",
       "    }\n",
       "\n",
       "    .dataframe thead th {\n",
       "        text-align: right;\n",
       "    }\n",
       "</style>\n",
       "<table border=\"1\" class=\"dataframe\">\n",
       "  <thead>\n",
       "    <tr style=\"text-align: right;\">\n",
       "      <th></th>\n",
       "      <th>age</th>\n",
       "      <th>sex</th>\n",
       "      <th>bmi</th>\n",
       "      <th>children</th>\n",
       "      <th>smoker</th>\n",
       "      <th>region</th>\n",
       "      <th>charges</th>\n",
       "    </tr>\n",
       "  </thead>\n",
       "  <tbody>\n",
       "    <tr>\n",
       "      <th>1333</th>\n",
       "      <td>50</td>\n",
       "      <td>male</td>\n",
       "      <td>30.97</td>\n",
       "      <td>3</td>\n",
       "      <td>no</td>\n",
       "      <td>northwest</td>\n",
       "      <td>10600.5483</td>\n",
       "    </tr>\n",
       "    <tr>\n",
       "      <th>1334</th>\n",
       "      <td>18</td>\n",
       "      <td>female</td>\n",
       "      <td>31.92</td>\n",
       "      <td>0</td>\n",
       "      <td>no</td>\n",
       "      <td>northeast</td>\n",
       "      <td>2205.9808</td>\n",
       "    </tr>\n",
       "    <tr>\n",
       "      <th>1335</th>\n",
       "      <td>18</td>\n",
       "      <td>female</td>\n",
       "      <td>36.85</td>\n",
       "      <td>0</td>\n",
       "      <td>no</td>\n",
       "      <td>southeast</td>\n",
       "      <td>1629.8335</td>\n",
       "    </tr>\n",
       "    <tr>\n",
       "      <th>1336</th>\n",
       "      <td>21</td>\n",
       "      <td>female</td>\n",
       "      <td>25.80</td>\n",
       "      <td>0</td>\n",
       "      <td>no</td>\n",
       "      <td>southwest</td>\n",
       "      <td>2007.9450</td>\n",
       "    </tr>\n",
       "    <tr>\n",
       "      <th>1337</th>\n",
       "      <td>61</td>\n",
       "      <td>female</td>\n",
       "      <td>29.07</td>\n",
       "      <td>0</td>\n",
       "      <td>yes</td>\n",
       "      <td>northwest</td>\n",
       "      <td>29141.3603</td>\n",
       "    </tr>\n",
       "  </tbody>\n",
       "</table>\n",
       "</div>"
      ],
      "text/plain": [
       "      age     sex    bmi  children smoker     region     charges\n",
       "1333   50    male  30.97         3     no  northwest  10600.5483\n",
       "1334   18  female  31.92         0     no  northeast   2205.9808\n",
       "1335   18  female  36.85         0     no  southeast   1629.8335\n",
       "1336   21  female  25.80         0     no  southwest   2007.9450\n",
       "1337   61  female  29.07         0    yes  northwest  29141.3603"
      ]
     },
     "execution_count": 4,
     "metadata": {},
     "output_type": "execute_result"
    }
   ],
   "source": [
    "#last five rows of the dataset\n",
    "df.tail()"
   ]
  },
  {
   "cell_type": "markdown",
   "id": "261b92b0",
   "metadata": {},
   "source": [
    "Taking a look at the summary of the dataset "
   ]
  },
  {
   "cell_type": "code",
   "execution_count": 5,
   "id": "530d4799",
   "metadata": {},
   "outputs": [
    {
     "name": "stdout",
     "output_type": "stream",
     "text": [
      "<class 'pandas.core.frame.DataFrame'>\n",
      "RangeIndex: 1338 entries, 0 to 1337\n",
      "Data columns (total 7 columns):\n",
      " #   Column    Non-Null Count  Dtype  \n",
      "---  ------    --------------  -----  \n",
      " 0   age       1338 non-null   int64  \n",
      " 1   sex       1338 non-null   object \n",
      " 2   bmi       1338 non-null   float64\n",
      " 3   children  1338 non-null   int64  \n",
      " 4   smoker    1338 non-null   object \n",
      " 5   region    1338 non-null   object \n",
      " 6   charges   1338 non-null   float64\n",
      "dtypes: float64(2), int64(2), object(3)\n",
      "memory usage: 73.3+ KB\n"
     ]
    }
   ],
   "source": [
    "df.info()"
   ]
  },
  {
   "cell_type": "markdown",
   "id": "b1769fb0",
   "metadata": {},
   "source": [
    "There are __1,338__ (__1,337__ excluding the header) rows and __7__ columns. The data type for each column is valid.  "
   ]
  },
  {
   "cell_type": "markdown",
   "id": "5faf57f5",
   "metadata": {},
   "source": [
    "<hr style=\"border:1px solid black\">\n",
    "\n",
    "## Data Cleaning <a name=\"data-cleaning\"></a>"
   ]
  },
  {
   "cell_type": "markdown",
   "id": "b376da9e",
   "metadata": {},
   "source": [
    "### Handling Missing Data"
   ]
  },
  {
   "cell_type": "code",
   "execution_count": 6,
   "id": "a5b7d234",
   "metadata": {},
   "outputs": [
    {
     "name": "stdout",
     "output_type": "stream",
     "text": [
      "age         0\n",
      "sex         0\n",
      "bmi         0\n",
      "children    0\n",
      "smoker      0\n",
      "region      0\n",
      "charges     0\n",
      "dtype: int64\n"
     ]
    }
   ],
   "source": [
    "# Check for missing data in each column\n",
    "missing_data = df.isnull().sum()\n",
    "print(missing_data)"
   ]
  },
  {
   "cell_type": "markdown",
   "id": "f83659f4",
   "metadata": {},
   "source": [
    "There are no missing values in each column. "
   ]
  },
  {
   "cell_type": "markdown",
   "id": "60d545cc",
   "metadata": {},
   "source": [
    "### Handling Duplicate Data"
   ]
  },
  {
   "cell_type": "code",
   "execution_count": 7,
   "id": "145ba9c2",
   "metadata": {
    "scrolled": true
   },
   "outputs": [
    {
     "data": {
      "text/plain": [
       "1"
      ]
     },
     "execution_count": 7,
     "metadata": {},
     "output_type": "execute_result"
    }
   ],
   "source": [
    "df.duplicated().sum()"
   ]
  },
  {
   "cell_type": "markdown",
   "id": "0acc7a88",
   "metadata": {},
   "source": [
    "There is one duplicate row in the dataset. The next step will be to view and drop the duplicate. "
   ]
  },
  {
   "cell_type": "code",
   "execution_count": 8,
   "id": "0d9c5af7",
   "metadata": {},
   "outputs": [
    {
     "data": {
      "text/html": [
       "<div>\n",
       "<style scoped>\n",
       "    .dataframe tbody tr th:only-of-type {\n",
       "        vertical-align: middle;\n",
       "    }\n",
       "\n",
       "    .dataframe tbody tr th {\n",
       "        vertical-align: top;\n",
       "    }\n",
       "\n",
       "    .dataframe thead th {\n",
       "        text-align: right;\n",
       "    }\n",
       "</style>\n",
       "<table border=\"1\" class=\"dataframe\">\n",
       "  <thead>\n",
       "    <tr style=\"text-align: right;\">\n",
       "      <th></th>\n",
       "      <th>age</th>\n",
       "      <th>sex</th>\n",
       "      <th>bmi</th>\n",
       "      <th>children</th>\n",
       "      <th>smoker</th>\n",
       "      <th>region</th>\n",
       "      <th>charges</th>\n",
       "    </tr>\n",
       "  </thead>\n",
       "  <tbody>\n",
       "    <tr>\n",
       "      <th>195</th>\n",
       "      <td>19</td>\n",
       "      <td>male</td>\n",
       "      <td>30.59</td>\n",
       "      <td>0</td>\n",
       "      <td>no</td>\n",
       "      <td>northwest</td>\n",
       "      <td>1639.5631</td>\n",
       "    </tr>\n",
       "  </tbody>\n",
       "</table>\n",
       "</div>"
      ],
      "text/plain": [
       "     age   sex    bmi  children smoker     region    charges\n",
       "195   19  male  30.59         0     no  northwest  1639.5631"
      ]
     },
     "execution_count": 8,
     "metadata": {},
     "output_type": "execute_result"
    }
   ],
   "source": [
    "#viewing the duplicated data, only returns the last occurence of the duplicated row \n",
    "df[df.duplicated(keep = 'last')]"
   ]
  },
  {
   "cell_type": "code",
   "execution_count": 9,
   "id": "9704f961",
   "metadata": {},
   "outputs": [],
   "source": [
    "df.drop_duplicates(inplace = True)"
   ]
  },
  {
   "cell_type": "code",
   "execution_count": 10,
   "id": "86cac447",
   "metadata": {},
   "outputs": [
    {
     "data": {
      "text/plain": [
       "(1337, 7)"
      ]
     },
     "execution_count": 10,
     "metadata": {},
     "output_type": "execute_result"
    }
   ],
   "source": [
    "df.shape"
   ]
  },
  {
   "cell_type": "markdown",
   "id": "c8d93cc2",
   "metadata": {},
   "source": [
    "There are now __1,337__ (__1,336__ excluding the header) rows and __7__ columns."
   ]
  },
  {
   "cell_type": "markdown",
   "id": "cc1897f7",
   "metadata": {},
   "source": [
    "<hr style=\"border:1px solid black\">\n",
    "\n",
    "## Descriptive Statistics <a name=\"descriptive-statistics\"></a>"
   ]
  },
  {
   "cell_type": "markdown",
   "id": "038a74ca",
   "metadata": {},
   "source": [
    "### Summary Statistics "
   ]
  },
  {
   "cell_type": "code",
   "execution_count": 11,
   "id": "e039e4bb",
   "metadata": {
    "scrolled": false
   },
   "outputs": [
    {
     "data": {
      "text/html": [
       "<div>\n",
       "<style scoped>\n",
       "    .dataframe tbody tr th:only-of-type {\n",
       "        vertical-align: middle;\n",
       "    }\n",
       "\n",
       "    .dataframe tbody tr th {\n",
       "        vertical-align: top;\n",
       "    }\n",
       "\n",
       "    .dataframe thead th {\n",
       "        text-align: right;\n",
       "    }\n",
       "</style>\n",
       "<table border=\"1\" class=\"dataframe\">\n",
       "  <thead>\n",
       "    <tr style=\"text-align: right;\">\n",
       "      <th></th>\n",
       "      <th>age</th>\n",
       "      <th>sex</th>\n",
       "      <th>bmi</th>\n",
       "      <th>children</th>\n",
       "      <th>smoker</th>\n",
       "      <th>region</th>\n",
       "      <th>charges</th>\n",
       "    </tr>\n",
       "  </thead>\n",
       "  <tbody>\n",
       "    <tr>\n",
       "      <th>count</th>\n",
       "      <td>1337.000000</td>\n",
       "      <td>1337</td>\n",
       "      <td>1337.000000</td>\n",
       "      <td>1337.000000</td>\n",
       "      <td>1337</td>\n",
       "      <td>1337</td>\n",
       "      <td>1337.000000</td>\n",
       "    </tr>\n",
       "    <tr>\n",
       "      <th>unique</th>\n",
       "      <td>NaN</td>\n",
       "      <td>2</td>\n",
       "      <td>NaN</td>\n",
       "      <td>NaN</td>\n",
       "      <td>2</td>\n",
       "      <td>4</td>\n",
       "      <td>NaN</td>\n",
       "    </tr>\n",
       "    <tr>\n",
       "      <th>top</th>\n",
       "      <td>NaN</td>\n",
       "      <td>male</td>\n",
       "      <td>NaN</td>\n",
       "      <td>NaN</td>\n",
       "      <td>no</td>\n",
       "      <td>southeast</td>\n",
       "      <td>NaN</td>\n",
       "    </tr>\n",
       "    <tr>\n",
       "      <th>freq</th>\n",
       "      <td>NaN</td>\n",
       "      <td>675</td>\n",
       "      <td>NaN</td>\n",
       "      <td>NaN</td>\n",
       "      <td>1063</td>\n",
       "      <td>364</td>\n",
       "      <td>NaN</td>\n",
       "    </tr>\n",
       "    <tr>\n",
       "      <th>mean</th>\n",
       "      <td>39.222139</td>\n",
       "      <td>NaN</td>\n",
       "      <td>30.663452</td>\n",
       "      <td>1.095737</td>\n",
       "      <td>NaN</td>\n",
       "      <td>NaN</td>\n",
       "      <td>13279.121487</td>\n",
       "    </tr>\n",
       "    <tr>\n",
       "      <th>std</th>\n",
       "      <td>14.044333</td>\n",
       "      <td>NaN</td>\n",
       "      <td>6.100468</td>\n",
       "      <td>1.205571</td>\n",
       "      <td>NaN</td>\n",
       "      <td>NaN</td>\n",
       "      <td>12110.359656</td>\n",
       "    </tr>\n",
       "    <tr>\n",
       "      <th>min</th>\n",
       "      <td>18.000000</td>\n",
       "      <td>NaN</td>\n",
       "      <td>15.960000</td>\n",
       "      <td>0.000000</td>\n",
       "      <td>NaN</td>\n",
       "      <td>NaN</td>\n",
       "      <td>1121.873900</td>\n",
       "    </tr>\n",
       "    <tr>\n",
       "      <th>25%</th>\n",
       "      <td>27.000000</td>\n",
       "      <td>NaN</td>\n",
       "      <td>26.290000</td>\n",
       "      <td>0.000000</td>\n",
       "      <td>NaN</td>\n",
       "      <td>NaN</td>\n",
       "      <td>4746.344000</td>\n",
       "    </tr>\n",
       "    <tr>\n",
       "      <th>50%</th>\n",
       "      <td>39.000000</td>\n",
       "      <td>NaN</td>\n",
       "      <td>30.400000</td>\n",
       "      <td>1.000000</td>\n",
       "      <td>NaN</td>\n",
       "      <td>NaN</td>\n",
       "      <td>9386.161300</td>\n",
       "    </tr>\n",
       "    <tr>\n",
       "      <th>75%</th>\n",
       "      <td>51.000000</td>\n",
       "      <td>NaN</td>\n",
       "      <td>34.700000</td>\n",
       "      <td>2.000000</td>\n",
       "      <td>NaN</td>\n",
       "      <td>NaN</td>\n",
       "      <td>16657.717450</td>\n",
       "    </tr>\n",
       "    <tr>\n",
       "      <th>max</th>\n",
       "      <td>64.000000</td>\n",
       "      <td>NaN</td>\n",
       "      <td>53.130000</td>\n",
       "      <td>5.000000</td>\n",
       "      <td>NaN</td>\n",
       "      <td>NaN</td>\n",
       "      <td>63770.428010</td>\n",
       "    </tr>\n",
       "  </tbody>\n",
       "</table>\n",
       "</div>"
      ],
      "text/plain": [
       "                age   sex          bmi     children smoker     region  \\\n",
       "count   1337.000000  1337  1337.000000  1337.000000   1337       1337   \n",
       "unique          NaN     2          NaN          NaN      2          4   \n",
       "top             NaN  male          NaN          NaN     no  southeast   \n",
       "freq            NaN   675          NaN          NaN   1063        364   \n",
       "mean      39.222139   NaN    30.663452     1.095737    NaN        NaN   \n",
       "std       14.044333   NaN     6.100468     1.205571    NaN        NaN   \n",
       "min       18.000000   NaN    15.960000     0.000000    NaN        NaN   \n",
       "25%       27.000000   NaN    26.290000     0.000000    NaN        NaN   \n",
       "50%       39.000000   NaN    30.400000     1.000000    NaN        NaN   \n",
       "75%       51.000000   NaN    34.700000     2.000000    NaN        NaN   \n",
       "max       64.000000   NaN    53.130000     5.000000    NaN        NaN   \n",
       "\n",
       "             charges  \n",
       "count    1337.000000  \n",
       "unique           NaN  \n",
       "top              NaN  \n",
       "freq             NaN  \n",
       "mean    13279.121487  \n",
       "std     12110.359656  \n",
       "min      1121.873900  \n",
       "25%      4746.344000  \n",
       "50%      9386.161300  \n",
       "75%     16657.717450  \n",
       "max     63770.428010  "
      ]
     },
     "execution_count": 11,
     "metadata": {},
     "output_type": "execute_result"
    }
   ],
   "source": [
    "df.describe(include=\"all\")"
   ]
  },
  {
   "cell_type": "markdown",
   "id": "802636fe",
   "metadata": {},
   "source": [
    "<hr style=\"border:1px solid black\">\n",
    "\n",
    "## Exploratory Data Analysis <a name=\"exploratory-data-analysis\"></a>"
   ]
  },
  {
   "cell_type": "markdown",
   "id": "c742fd35",
   "metadata": {},
   "source": [
    "### How does age impact the cost of medical insurance? Are there any noticeable trends or patterns?\n",
    "\n",
    "To understand the relationship between age and insurance costs, we will: \n",
    "- Visualize age distribution\n",
    "- Generate a scatter plot\n",
    "- Calculate the correlation coefficient\n",
    "- Split the dataset into two groups and perform a t-test for significance testing"
   ]
  },
  {
   "cell_type": "markdown",
   "id": "3fe8354a",
   "metadata": {},
   "source": [
    "#### Visualizing age distribution"
   ]
  },
  {
   "cell_type": "code",
   "execution_count": 12,
   "id": "92f19694",
   "metadata": {
    "scrolled": false
   },
   "outputs": [
    {
     "data": {
      "text/plain": [
       "Text(0.5, 1.0, 'Distribution of Age')"
      ]
     },
     "execution_count": 12,
     "metadata": {},
     "output_type": "execute_result"
    },
    {
     "data": {
      "image/png": "[encoded data removed]",
      "text/plain": [
       "<Figure size 640x480 with 1 Axes>"
      ]
     },
     "metadata": {},
     "output_type": "display_data"
    }
   ],
   "source": [
    "sns.histplot(df['age'])\n",
    "plt.title (\"Distribution of Age\")"
   ]
  },
  {
   "cell_type": "markdown",
   "id": "dede5554",
   "metadata": {},
   "source": [
    "#### Generating Scatter Plot"
   ]
  },
  {
   "cell_type": "code",
   "execution_count": 13,
   "id": "08aae6b3",
   "metadata": {},
   "outputs": [
    {
     "name": "stdout",
     "output_type": "stream",
     "text": [
      "Slope of the regression line: 257.22971751791476\n"
     ]
    },
    {
     "data": {
      "image/png": "[encoded data removed]",
      "text/plain": [
       "<Figure size 640x480 with 1 Axes>"
      ]
     },
     "metadata": {},
     "output_type": "display_data"
    }
   ],
   "source": [
    "sns.scatterplot(x=\"age\", y=\"charges\", data =df)\n",
    "plt.title('Charges vs Age')\n",
    "sns.regplot(x='age', y='charges', data=df, scatter=False)\n",
    "slope, intercept, r_value, p_value, std_err = stats.linregress(x=df[\"age\"], y=df[\"charges\"])\n",
    "print(\"Slope of the regression line:\", slope)"
   ]
  },
  {
   "cell_type": "markdown",
   "id": "b73677fe",
   "metadata": {},
   "source": [
    "#### Calculating the Correlation Coefficient - Age and Charges"
   ]
  },
  {
   "cell_type": "code",
   "execution_count": 14,
   "id": "e2441852",
   "metadata": {},
   "outputs": [
    {
     "data": {
      "text/plain": [
       "0.2983082125097864"
      ]
     },
     "execution_count": 14,
     "metadata": {},
     "output_type": "execute_result"
    }
   ],
   "source": [
    "correlation_age = df[\"age\"].corr(df[\"charges\"])\n",
    "correlation_age "
   ]
  },
  {
   "cell_type": "markdown",
   "id": "6913e18e",
   "metadata": {},
   "source": [
    "#### Splitting the dataset into two groups and performing a t-test for significance testing\n",
    "\n",
    "We will begin by splitting the dataset into two groups: age_below_median and age_above_median.\n",
    "\n",
    "__Null Hypothesis__: There is no difference in medical insurance costs between both age groups. <br>\n",
    "__Alternative Hypothesis__: There is a difference in medical insurance costs between both age groups. "
   ]
  },
  {
   "cell_type": "code",
   "execution_count": 15,
   "id": "afbb4bf5",
   "metadata": {},
   "outputs": [
    {
     "name": "stdout",
     "output_type": "stream",
     "text": [
      "The median age for this sample is: 39.0 years\n",
      "The t statistic is: -9.5973\n",
      "The P-value is: 3.876066121115055e-21\n"
     ]
    }
   ],
   "source": [
    "print (\"The median age for this sample is:\",df[\"age\"].median(),\"years\")\n",
    "\n",
    "age_below_median = df[df[\"age\"] < df[\"age\"].median()][\"charges\"]\n",
    "age_above_median = df[df[\"age\"] >= df[\"age\"].median()][\"charges\"]\n",
    "t_stat, p_value = stats.ttest_ind(age_below_median, age_above_median)\n",
    "\n",
    "print ('The t statistic is:', round(t_stat,4))\n",
    "print ('The P-value is:', p_value)"
   ]
  },
  {
   "cell_type": "markdown",
   "id": "8241dc4f",
   "metadata": {},
   "source": [
    "With such a low __p-value__, it is reasonable to reject the null hypothesis and conclude that there are differences in medical insurance costs. Since the __p-value__ is smaller than the commonly used significance level of 0.05 (or 5%), we can conclude that the observed difference in charges between the two age groups is statistically significant. "
   ]
  },
  {
   "cell_type": "markdown",
   "id": "64648da1",
   "metadata": {},
   "source": [
    "### Is there a correlation between BMI and the cost of insurance? How does weight status affect insurance costs?"
   ]
  },
  {
   "cell_type": "markdown",
   "id": "d74b8973",
   "metadata": {},
   "source": [
    "To understand the relationship between BMI and insurance costs, we will: \n",
    "- Visualize BMI distribution \n",
    "- Calculate the correlation coefficient\n",
    "- Create BMI categories\n",
    "- Compare average medical insurance cost between BMI categories\n",
    "- Test for the significance of the differences in costs between BMI categories"
   ]
  },
  {
   "cell_type": "markdown",
   "id": "150ff2ff",
   "metadata": {},
   "source": [
    "#### Visualizing BMI Distribution"
   ]
  },
  {
   "cell_type": "code",
   "execution_count": 16,
   "id": "881c6393",
   "metadata": {
    "scrolled": false
   },
   "outputs": [
    {
     "data": {
      "text/plain": [
       "Text(0.5, 1.0, 'Distribution of BMI')"
      ]
     },
     "execution_count": 16,
     "metadata": {},
     "output_type": "execute_result"
    },
    {
     "data": {
      "image/png": "[encoded data removed]",
      "text/plain": [
       "<Figure size 640x480 with 1 Axes>"
      ]
     },
     "metadata": {},
     "output_type": "display_data"
    }
   ],
   "source": [
    "sns.histplot(df['bmi'])\n",
    "plt.title (\"Distribution of BMI\")"
   ]
  },
  {
   "cell_type": "markdown",
   "id": "3aeee8dd",
   "metadata": {},
   "source": [
    "#### Calculating the Correlation Coefficient - BMI and Charges"
   ]
  },
  {
   "cell_type": "code",
   "execution_count": 17,
   "id": "311624df",
   "metadata": {},
   "outputs": [
    {
     "data": {
      "text/plain": [
       "0.19840083122624938"
      ]
     },
     "execution_count": 17,
     "metadata": {},
     "output_type": "execute_result"
    }
   ],
   "source": [
    "correlation_bmi = df[\"bmi\"].corr(df[\"charges\"])\n",
    "correlation_bmi"
   ]
  },
  {
   "cell_type": "markdown",
   "id": "22163407",
   "metadata": {},
   "source": [
    "#### Creating BMI Categories "
   ]
  },
  {
   "cell_type": "code",
   "execution_count": 18,
   "id": "7acd5914",
   "metadata": {},
   "outputs": [],
   "source": [
    "df[\"bmi_category\"] = pd.cut(df[\"bmi\"], bins=[0, 18.5, 24.9, 29.9, float('inf')],\n",
    "labels=[\"Underweight\", \"Normal weight\", \"Overweight\", \"Obese\"])"
   ]
  },
  {
   "cell_type": "markdown",
   "id": "e8d85fbd",
   "metadata": {},
   "source": [
    "#### Comparing average medical insurance cost between BMI categories"
   ]
  },
  {
   "cell_type": "code",
   "execution_count": 19,
   "id": "2fabefbb",
   "metadata": {
    "scrolled": true
   },
   "outputs": [
    {
     "data": {
      "text/html": [
       "<div>\n",
       "<style scoped>\n",
       "    .dataframe tbody tr th:only-of-type {\n",
       "        vertical-align: middle;\n",
       "    }\n",
       "\n",
       "    .dataframe tbody tr th {\n",
       "        vertical-align: top;\n",
       "    }\n",
       "\n",
       "    .dataframe thead th {\n",
       "        text-align: right;\n",
       "    }\n",
       "</style>\n",
       "<table border=\"1\" class=\"dataframe\">\n",
       "  <thead>\n",
       "    <tr style=\"text-align: right;\">\n",
       "      <th></th>\n",
       "      <th>average_cost</th>\n",
       "    </tr>\n",
       "    <tr>\n",
       "      <th>bmi_category</th>\n",
       "      <th></th>\n",
       "    </tr>\n",
       "  </thead>\n",
       "  <tbody>\n",
       "    <tr>\n",
       "      <th>Underweight</th>\n",
       "      <td>$8,657.62</td>\n",
       "    </tr>\n",
       "    <tr>\n",
       "      <th>Normal weight</th>\n",
       "      <td>$10,404.90</td>\n",
       "    </tr>\n",
       "    <tr>\n",
       "      <th>Overweight</th>\n",
       "      <td>$11,006.81</td>\n",
       "    </tr>\n",
       "    <tr>\n",
       "      <th>Obese</th>\n",
       "      <td>$15,510.92</td>\n",
       "    </tr>\n",
       "  </tbody>\n",
       "</table>\n",
       "</div>"
      ],
      "text/plain": [
       "              average_cost\n",
       "bmi_category              \n",
       "Underweight      $8,657.62\n",
       "Normal weight   $10,404.90\n",
       "Overweight      $11,006.81\n",
       "Obese           $15,510.92"
      ]
     },
     "execution_count": 19,
     "metadata": {},
     "output_type": "execute_result"
    }
   ],
   "source": [
    "bmi_groups = pd.DataFrame (df.groupby(\"bmi_category\")[\"charges\"].mean())\n",
    "bmi_groups.rename(columns={'charges': 'average_cost'}, inplace=True)\n",
    "bmi_groups['average_cost'] = bmi_groups['average_cost'].map('${:,.2f}'.format)\n",
    "bmi_groups"
   ]
  },
  {
   "cell_type": "code",
   "execution_count": 20,
   "id": "fd69dedb",
   "metadata": {},
   "outputs": [
    {
     "data": {
      "text/plain": [
       "Text(0, 0.5, 'Average Cost')"
      ]
     },
     "execution_count": 20,
     "metadata": {},
     "output_type": "execute_result"
    },
    {
     "data": {
      "image/png": "[encoded data removed]",
      "text/plain": [
       "<Figure size 640x480 with 1 Axes>"
      ]
     },
     "metadata": {},
     "output_type": "display_data"
    }
   ],
   "source": [
    "sns.barplot(x = 'bmi_category', y= 'charges', data = df)\n",
    "plt.title('Average Medical Insurance Costs by BMI')\n",
    "plt.xlabel('BMI Category')\n",
    "plt.ylabel('Average Cost')"
   ]
  },
  {
   "cell_type": "markdown",
   "id": "6dccf49b",
   "metadata": {},
   "source": [
    "As BMI increases, the average cost of medical insurance increases. People who are classified as underweight have the lowest average medical insurance costs and people who are classified as obese have the highest average medical insurance costs. "
   ]
  },
  {
   "cell_type": "markdown",
   "id": "3f48cc2a",
   "metadata": {},
   "source": [
    "#### Testing for the significance of the differences in costs between BMI categories\n",
    "\n",
    "__Null Hypothesis__: There is no difference in average medical insurance costs between BMI categories. <br>\n",
    "__Alternative Hypothesis__: There is a difference in medical insurance costs between BMI categories."
   ]
  },
  {
   "cell_type": "code",
   "execution_count": 21,
   "id": "dcb591ce",
   "metadata": {
    "scrolled": true
   },
   "outputs": [
    {
     "name": "stdout",
     "output_type": "stream",
     "text": [
      "The f-statistic is: 18.415786684176375\n",
      "The p_value is: 1.0406468933933702e-11\n"
     ]
    }
   ],
   "source": [
    "bmi_underweight = df[df[\"bmi_category\"] == \"Underweight\"][\"charges\"]\n",
    "bmi_normal = df[df[\"bmi_category\"] == \"Normal weight\"][\"charges\"]\n",
    "bmi_overweight = df[df[\"bmi_category\"] == \"Overweight\"][\"charges\"]\n",
    "bmi_obese = df[df[\"bmi_category\"] == \"Obese\"][\"charges\"]\n",
    "f_stat, p_value = stats.f_oneway(bmi_underweight, bmi_normal, bmi_overweight, bmi_obese)\n",
    "\n",
    "print (f'The f-statistic is: {f_stat}')\n",
    "print (f'The p_value is: {p_value}')"
   ]
  },
  {
   "cell_type": "markdown",
   "id": "dffb5557",
   "metadata": {},
   "source": [
    "The __p-value__ is 1.2664385334037939e-11, which is much smaller than 0.05. Therefore, we can conclude that there is strong evidence to reject the null hypothesis and conclude that there is a statistically significant difference in average medical costs between BMI categories."
   ]
  },
  {
   "cell_type": "markdown",
   "id": "d2d30cec",
   "metadata": {},
   "source": [
    "### What role does sex play in determining insurance costs? Are there any significant differences between males and females?"
   ]
  },
  {
   "cell_type": "markdown",
   "id": "ac64d566",
   "metadata": {},
   "source": [
    "To understand the relationship between sex and insurance costs, we will: \n",
    "- Compare average insurance cost between sexes\n",
    "- Test for the significance of the difference in costs between the sexes"
   ]
  },
  {
   "cell_type": "markdown",
   "id": "a85bf001",
   "metadata": {},
   "source": [
    "#### Comparing average medical insurance cost between sexes"
   ]
  },
  {
   "cell_type": "code",
   "execution_count": 22,
   "id": "be819227",
   "metadata": {
    "scrolled": false
   },
   "outputs": [
    {
     "data": {
      "text/html": [
       "<div>\n",
       "<style scoped>\n",
       "    .dataframe tbody tr th:only-of-type {\n",
       "        vertical-align: middle;\n",
       "    }\n",
       "\n",
       "    .dataframe tbody tr th {\n",
       "        vertical-align: top;\n",
       "    }\n",
       "\n",
       "    .dataframe thead th {\n",
       "        text-align: right;\n",
       "    }\n",
       "</style>\n",
       "<table border=\"1\" class=\"dataframe\">\n",
       "  <thead>\n",
       "    <tr style=\"text-align: right;\">\n",
       "      <th></th>\n",
       "      <th>average_cost</th>\n",
       "    </tr>\n",
       "    <tr>\n",
       "      <th>sex</th>\n",
       "      <th></th>\n",
       "    </tr>\n",
       "  </thead>\n",
       "  <tbody>\n",
       "    <tr>\n",
       "      <th>female</th>\n",
       "      <td>$12,569.58</td>\n",
       "    </tr>\n",
       "    <tr>\n",
       "      <th>male</th>\n",
       "      <td>$13,975.00</td>\n",
       "    </tr>\n",
       "  </tbody>\n",
       "</table>\n",
       "</div>"
      ],
      "text/plain": [
       "       average_cost\n",
       "sex                \n",
       "female   $12,569.58\n",
       "male     $13,975.00"
      ]
     },
     "execution_count": 22,
     "metadata": {},
     "output_type": "execute_result"
    }
   ],
   "source": [
    "sex_groups = pd.DataFrame(df.groupby(\"sex\")[\"charges\"].mean())\n",
    "sex_groups.rename(columns={'charges': 'average_cost'}, inplace=True)\n",
    "sex_groups['average_cost'] = sex_groups['average_cost'].map('${:,.2f}'.format)\n",
    "sex_groups"
   ]
  },
  {
   "cell_type": "code",
   "execution_count": 23,
   "id": "501cfb17",
   "metadata": {
    "scrolled": false
   },
   "outputs": [
    {
     "data": {
      "text/plain": [
       "Text(0.5, 0, 'Sex')"
      ]
     },
     "execution_count": 23,
     "metadata": {},
     "output_type": "execute_result"
    },
    {
     "data": {
      "image/png": "[encoded data removed]",
      "text/plain": [
       "<Figure size 640x480 with 1 Axes>"
      ]
     },
     "metadata": {},
     "output_type": "display_data"
    }
   ],
   "source": [
    "sns.barplot(x = 'sex', y= 'charges', data = df)\n",
    "plt.title('Average Medical Insurance Costs by Sex')\n",
    "plt.ylabel('Average Cost')\n",
    "plt.xlabel('Sex')"
   ]
  },
  {
   "cell_type": "markdown",
   "id": "0be269ad",
   "metadata": {},
   "source": [
    "On average, males have higher medical insurance costs than females."
   ]
  },
  {
   "cell_type": "markdown",
   "id": "8db477b0",
   "metadata": {},
   "source": [
    "#### Testing for the significance of the difference in costs between the sexes"
   ]
  },
  {
   "cell_type": "markdown",
   "id": "460461f6",
   "metadata": {},
   "source": [
    "__Null Hypothesis__: There is no difference in average medical insurance costs between sexes. <br>\n",
    "__Alternative Hypothesis__: There is a difference in medical insurance costs between sexes."
   ]
  },
  {
   "cell_type": "code",
   "execution_count": 24,
   "id": "8ab09076",
   "metadata": {},
   "outputs": [
    {
     "name": "stdout",
     "output_type": "stream",
     "text": [
      "The t-statistic is 2.124391307062026\n",
      "The p-value is 0.0338207919951195\n"
     ]
    }
   ],
   "source": [
    "male = df[df[\"sex\"] == \"male\"][\"charges\"]\n",
    "female = df[df[\"sex\"] == \"female\"][\"charges\"]\n",
    "t_stat, p_value = stats.ttest_ind(male, female)\n",
    "\n",
    "print (f'The t-statistic is {t_stat}')\n",
    "print (f'The p-value is {p_value}')"
   ]
  },
  {
   "cell_type": "markdown",
   "id": "0861e9c1",
   "metadata": {},
   "source": [
    "Since the __p-value__ is less than the conventional significance level of 0.05, we will reject the null hypothesis and conclude that there is a statistically significant difference in charges between males and females."
   ]
  },
  {
   "cell_type": "markdown",
   "id": "003d64fa",
   "metadata": {},
   "source": [
    "### Does having children affect insurance costs? Is there a relationship between the number of children and insurance expenses?"
   ]
  },
  {
   "cell_type": "markdown",
   "id": "4223cccf",
   "metadata": {},
   "source": [
    "To understand the relationship between the number of children and insurance costs, we will:\n",
    "\n",
    "- Compare average insurance cost based on the number of children\n",
    "- Test for the significance of the difference in costs based on the number of children "
   ]
  },
  {
   "cell_type": "markdown",
   "id": "b7004202",
   "metadata": {},
   "source": [
    "#### Comparing average insurance cost based on the number of children"
   ]
  },
  {
   "cell_type": "code",
   "execution_count": 25,
   "id": "2f4fd8d4",
   "metadata": {},
   "outputs": [
    {
     "data": {
      "text/html": [
       "<div>\n",
       "<style scoped>\n",
       "    .dataframe tbody tr th:only-of-type {\n",
       "        vertical-align: middle;\n",
       "    }\n",
       "\n",
       "    .dataframe tbody tr th {\n",
       "        vertical-align: top;\n",
       "    }\n",
       "\n",
       "    .dataframe thead th {\n",
       "        text-align: right;\n",
       "    }\n",
       "</style>\n",
       "<table border=\"1\" class=\"dataframe\">\n",
       "  <thead>\n",
       "    <tr style=\"text-align: right;\">\n",
       "      <th></th>\n",
       "      <th>average_cost</th>\n",
       "    </tr>\n",
       "    <tr>\n",
       "      <th>children</th>\n",
       "      <th></th>\n",
       "    </tr>\n",
       "  </thead>\n",
       "  <tbody>\n",
       "    <tr>\n",
       "      <th>0</th>\n",
       "      <td>$12,384.70</td>\n",
       "    </tr>\n",
       "    <tr>\n",
       "      <th>1</th>\n",
       "      <td>$12,731.17</td>\n",
       "    </tr>\n",
       "    <tr>\n",
       "      <th>2</th>\n",
       "      <td>$15,073.56</td>\n",
       "    </tr>\n",
       "    <tr>\n",
       "      <th>3</th>\n",
       "      <td>$15,355.32</td>\n",
       "    </tr>\n",
       "    <tr>\n",
       "      <th>4</th>\n",
       "      <td>$13,850.66</td>\n",
       "    </tr>\n",
       "    <tr>\n",
       "      <th>5</th>\n",
       "      <td>$8,786.04</td>\n",
       "    </tr>\n",
       "  </tbody>\n",
       "</table>\n",
       "</div>"
      ],
      "text/plain": [
       "         average_cost\n",
       "children             \n",
       "0          $12,384.70\n",
       "1          $12,731.17\n",
       "2          $15,073.56\n",
       "3          $15,355.32\n",
       "4          $13,850.66\n",
       "5           $8,786.04"
      ]
     },
     "execution_count": 25,
     "metadata": {},
     "output_type": "execute_result"
    }
   ],
   "source": [
    "child_groups = pd.DataFrame (df.groupby('children')['charges'].mean())\n",
    "child_groups.rename(columns={'charges': 'average_cost'}, inplace=True)\n",
    "child_groups['average_cost'] = child_groups['average_cost'].map('${:,.2f}'.format)\n",
    "child_groups"
   ]
  },
  {
   "cell_type": "code",
   "execution_count": 26,
   "id": "f7623fbd",
   "metadata": {
    "scrolled": false
   },
   "outputs": [
    {
     "data": {
      "text/plain": [
       "Text(0.5, 0, 'Number of Children')"
      ]
     },
     "execution_count": 26,
     "metadata": {},
     "output_type": "execute_result"
    },
    {
     "data": {
      "image/png": "[encoded data removed]",
      "text/plain": [
       "<Figure size 640x480 with 1 Axes>"
      ]
     },
     "metadata": {},
     "output_type": "display_data"
    }
   ],
   "source": [
    "sns.barplot(x = 'children', y='charges', data = df)\n",
    "plt.title('Average Medical Insurance Costs by Number of Children')\n",
    "plt.ylabel('Average Cost')\n",
    "plt.xlabel('Number of Children')"
   ]
  },
  {
   "cell_type": "markdown",
   "id": "76276da3",
   "metadata": {},
   "source": [
    "On average, people with 2 or 3 children have the highest medical insurance costs and people with 5 children have the lowest costs."
   ]
  },
  {
   "cell_type": "markdown",
   "id": "a69e083a",
   "metadata": {},
   "source": [
    "#### Testing for the significance of the difference in costs based on the number of children"
   ]
  },
  {
   "cell_type": "markdown",
   "id": "806ec7a2",
   "metadata": {},
   "source": [
    "__Null Hypothesis__: There is no difference in average medical insurance costs based on number of children. <br>\n",
    "__Alternative Hypothesis__: There is a difference in medical insurance costs based on number of children."
   ]
  },
  {
   "cell_type": "code",
   "execution_count": 27,
   "id": "38a5fab1",
   "metadata": {},
   "outputs": [
    {
     "name": "stdout",
     "output_type": "stream",
     "text": [
      "The f-statistic is: 3.2687344101195737\n",
      "The p_value is: 0.006133448188169501\n"
     ]
    }
   ],
   "source": [
    "group_0 = df[df['children'] == 0]['charges']\n",
    "group_1 = df[df['children'] == 1]['charges']\n",
    "group_2 = df[df['children'] == 2]['charges']\n",
    "group_3 = df[df['children'] == 3]['charges']\n",
    "group_4 = df[df['children'] == 4]['charges']\n",
    "group_5 = df[df['children'] == 5]['charges']\n",
    "\n",
    "\n",
    "f_stat, p_value = stats.f_oneway(group_0, group_1, group_2, group_3, group_4, group_5)\n",
    "\n",
    "print (f'The f-statistic is: {f_stat}')\n",
    "print (f'The p_value is: {p_value}')"
   ]
  },
  {
   "cell_type": "markdown",
   "id": "a98a2b62",
   "metadata": {},
   "source": [
    "The __p-value__ is 0.00578568138087587, which is less than 0.05. Therefore, we can conclude that there is strong evidence to reject the null hypothesis and conclude that there are significant differences in medical insurance costs based on the number of children."
   ]
  },
  {
   "cell_type": "markdown",
   "id": "6cd6e74f",
   "metadata": {},
   "source": [
    "### How does smoking status impact insurance premiums? Are smokers charged higher rates compared to non-smokers?"
   ]
  },
  {
   "cell_type": "markdown",
   "id": "e732da74",
   "metadata": {},
   "source": [
    "To understand the relationship between smoking status and insurance costs, we will:\n",
    "\n",
    "- Compare average insurance cost based on smoking status\n",
    "- Test for the significance of the difference in costs based on smoking status"
   ]
  },
  {
   "cell_type": "markdown",
   "id": "77811cc7",
   "metadata": {},
   "source": [
    "#### Comparing average insurance cost based on smoking status"
   ]
  },
  {
   "cell_type": "code",
   "execution_count": 28,
   "id": "b560624c",
   "metadata": {
    "scrolled": true
   },
   "outputs": [
    {
     "data": {
      "text/html": [
       "<div>\n",
       "<style scoped>\n",
       "    .dataframe tbody tr th:only-of-type {\n",
       "        vertical-align: middle;\n",
       "    }\n",
       "\n",
       "    .dataframe tbody tr th {\n",
       "        vertical-align: top;\n",
       "    }\n",
       "\n",
       "    .dataframe thead th {\n",
       "        text-align: right;\n",
       "    }\n",
       "</style>\n",
       "<table border=\"1\" class=\"dataframe\">\n",
       "  <thead>\n",
       "    <tr style=\"text-align: right;\">\n",
       "      <th></th>\n",
       "      <th>average_cost</th>\n",
       "    </tr>\n",
       "    <tr>\n",
       "      <th>smoker</th>\n",
       "      <th></th>\n",
       "    </tr>\n",
       "  </thead>\n",
       "  <tbody>\n",
       "    <tr>\n",
       "      <th>no</th>\n",
       "      <td>$8,440.66</td>\n",
       "    </tr>\n",
       "    <tr>\n",
       "      <th>yes</th>\n",
       "      <td>$32,050.23</td>\n",
       "    </tr>\n",
       "  </tbody>\n",
       "</table>\n",
       "</div>"
      ],
      "text/plain": [
       "       average_cost\n",
       "smoker             \n",
       "no        $8,440.66\n",
       "yes      $32,050.23"
      ]
     },
     "execution_count": 28,
     "metadata": {},
     "output_type": "execute_result"
    }
   ],
   "source": [
    "smoking_groups = pd.DataFrame(df.groupby('smoker')['charges'].mean())\n",
    "smoking_groups.rename(columns={'charges': 'average_cost'}, inplace=True)\n",
    "smoking_groups['average_cost'] = smoking_groups['average_cost'].map('${:,.2f}'.format) \n",
    "smoking_groups"
   ]
  },
  {
   "cell_type": "code",
   "execution_count": 29,
   "id": "2da99c8e",
   "metadata": {},
   "outputs": [
    {
     "data": {
      "text/plain": [
       "Text(0, 0.5, 'Average Cost')"
      ]
     },
     "execution_count": 29,
     "metadata": {},
     "output_type": "execute_result"
    },
    {
     "data": {
      "image/png": "[encoded data removed]",
      "text/plain": [
       "<Figure size 640x480 with 1 Axes>"
      ]
     },
     "metadata": {},
     "output_type": "display_data"
    }
   ],
   "source": [
    "sns.barplot(x = 'smoker', y= 'charges', data = df)\n",
    "plt.title('Average Medical Insurance Costs by Smoking Status')\n",
    "plt.xlabel('Smoking Status')\n",
    "plt.ylabel('Average Cost')"
   ]
  },
  {
   "cell_type": "markdown",
   "id": "60b71596",
   "metadata": {},
   "source": [
    "On average, smokers have much higher medical insurance costs than non-smokers. "
   ]
  },
  {
   "cell_type": "markdown",
   "id": "bca1827a",
   "metadata": {},
   "source": [
    "#### Testing for the significance of the difference in costs based on smoking status"
   ]
  },
  {
   "cell_type": "markdown",
   "id": "a13ccf4c",
   "metadata": {},
   "source": [
    "__Null Hypothesis__: There is no difference in average medical insurance costs based on smoking status.<br>\n",
    "__Alternative Hypothesis__: There is a difference in medical insurance costs based on smoking."
   ]
  },
  {
   "cell_type": "code",
   "execution_count": 30,
   "id": "952460da",
   "metadata": {
    "scrolled": true
   },
   "outputs": [
    {
     "name": "stdout",
     "output_type": "stream",
     "text": [
      "The t-statistic is 46.64479459840305\n",
      "The p-value is 1.4067220949376498e-282\n"
     ]
    }
   ],
   "source": [
    "smoker = df[df['smoker'] == 'yes']['charges']\n",
    "non_smoker = df[df['smoker'] == 'no']['charges']\n",
    "t_stat, p_value = stats.ttest_ind(smoker, non_smoker)\n",
    "\n",
    "print (f'The t-statistic is {t_stat}')\n",
    "print (f'The p-value is {p_value}')"
   ]
  },
  {
   "cell_type": "markdown",
   "id": "fcea58ef",
   "metadata": {},
   "source": [
    "The p-value is The p-value is __8.271435842179102e-283__, which is much smaller than 0.05. Therefore, we can conclude that there is strong evidence to reject the null hypothesis and conclude that there is a statistically significant difference in average medical costs between smokers and non-smokers. "
   ]
  },
  {
   "cell_type": "markdown",
   "id": "408ac416",
   "metadata": {},
   "source": [
    "### Are there regional variations in insurance costs? Do different areas exhibit distinct pricing patterns?"
   ]
  },
  {
   "cell_type": "markdown",
   "id": "470571df",
   "metadata": {},
   "source": [
    "To understand the relationship between region and insurance costs, we will:\n",
    "\n",
    "- Compare average insurance cost based on region\n",
    "- Test for the significance of the difference in costs based on region"
   ]
  },
  {
   "cell_type": "markdown",
   "id": "b0031b2b",
   "metadata": {},
   "source": [
    "#### Comparing average insurance cost based on region"
   ]
  },
  {
   "cell_type": "code",
   "execution_count": 31,
   "id": "49f25946",
   "metadata": {},
   "outputs": [
    {
     "data": {
      "text/html": [
       "<div>\n",
       "<style scoped>\n",
       "    .dataframe tbody tr th:only-of-type {\n",
       "        vertical-align: middle;\n",
       "    }\n",
       "\n",
       "    .dataframe tbody tr th {\n",
       "        vertical-align: top;\n",
       "    }\n",
       "\n",
       "    .dataframe thead th {\n",
       "        text-align: right;\n",
       "    }\n",
       "</style>\n",
       "<table border=\"1\" class=\"dataframe\">\n",
       "  <thead>\n",
       "    <tr style=\"text-align: right;\">\n",
       "      <th></th>\n",
       "      <th>average_cost</th>\n",
       "    </tr>\n",
       "    <tr>\n",
       "      <th>region</th>\n",
       "      <th></th>\n",
       "    </tr>\n",
       "  </thead>\n",
       "  <tbody>\n",
       "    <tr>\n",
       "      <th>northeast</th>\n",
       "      <td>$13,406.38</td>\n",
       "    </tr>\n",
       "    <tr>\n",
       "      <th>northwest</th>\n",
       "      <td>$12,450.84</td>\n",
       "    </tr>\n",
       "    <tr>\n",
       "      <th>southeast</th>\n",
       "      <td>$14,735.41</td>\n",
       "    </tr>\n",
       "    <tr>\n",
       "      <th>southwest</th>\n",
       "      <td>$12,346.94</td>\n",
       "    </tr>\n",
       "  </tbody>\n",
       "</table>\n",
       "</div>"
      ],
      "text/plain": [
       "          average_cost\n",
       "region                \n",
       "northeast   $13,406.38\n",
       "northwest   $12,450.84\n",
       "southeast   $14,735.41\n",
       "southwest   $12,346.94"
      ]
     },
     "execution_count": 31,
     "metadata": {},
     "output_type": "execute_result"
    }
   ],
   "source": [
    "region_groups = pd.DataFrame(df.groupby('region')['charges'].mean())\n",
    "region_groups.rename(columns={'charges':'average_cost'}, inplace = True)\n",
    "region_groups['average_cost'] = region_groups['average_cost'].map('${:,.2f}'.format) \n",
    "region_groups"
   ]
  },
  {
   "cell_type": "code",
   "execution_count": 32,
   "id": "fef6515f",
   "metadata": {
    "scrolled": false
   },
   "outputs": [
    {
     "data": {
      "text/plain": [
       "Text(0.5, 1.0, 'Charges per Region')"
      ]
     },
     "execution_count": 32,
     "metadata": {},
     "output_type": "execute_result"
    },
    {
     "data": {
      "image/png": "[encoded data removed]",
      "text/plain": [
       "<Figure size 640x480 with 1 Axes>"
      ]
     },
     "metadata": {},
     "output_type": "display_data"
    }
   ],
   "source": [
    "sns.barplot(x = 'region', y= 'charges', data = df)\n",
    "plt.title('Charges per Region')"
   ]
  },
  {
   "cell_type": "markdown",
   "id": "1e5d62ec",
   "metadata": {},
   "source": [
    "The region with the highest average cost is the SouthEast and the region with the lowest cost is the SouthWest."
   ]
  },
  {
   "cell_type": "markdown",
   "id": "16cafcdd",
   "metadata": {},
   "source": [
    "#### Testing for the significance of the difference in costs based on region"
   ]
  },
  {
   "cell_type": "markdown",
   "id": "e895f328",
   "metadata": {},
   "source": [
    "__Null Hypothesis__: There is no difference in average medical insurance costs based on region.<br>\n",
    "__Alternative Hypothesis__: There is a difference in medical insurance costs based on region."
   ]
  },
  {
   "cell_type": "code",
   "execution_count": 33,
   "id": "d654091c",
   "metadata": {},
   "outputs": [
    {
     "name": "stdout",
     "output_type": "stream",
     "text": [
      "The f statistic is: 2.926139903662776\n",
      "The P-value is: 0.03276288025444947\n"
     ]
    }
   ],
   "source": [
    "southwest = df[df['region'] == 'southwest']['charges']\n",
    "southeast = df[df['region'] == 'southeast']['charges']\n",
    "northwest = df[df['region'] == 'northwest']['charges']\n",
    "northeast = df[df['region'] == 'northeast']['charges']\n",
    "\n",
    "\n",
    "f_statistic, p_value = stats.f_oneway(southwest, southeast, northwest, northeast)\n",
    "\n",
    "\n",
    "\n",
    "print(f'The f statistic is: {f_statistic}')\n",
    "print(f'The P-value is: {p_value}')"
   ]
  },
  {
   "cell_type": "markdown",
   "id": "996e4566",
   "metadata": {},
   "source": [
    "The __p-value__ is 0.0308933560705201, which is less than 0.05. Therefore, we can conclude that there is evidence to reject the null hypothesis and conclude that there are significant differences in medical insurance costs based on the region."
   ]
  },
  {
   "cell_type": "markdown",
   "id": "6527a6eb",
   "metadata": {},
   "source": [
    "<hr style=\"border:1px solid black\">\n",
    "\n",
    "## Summary <a name=\"esummary\"></a>"
   ]
  },
  {
   "cell_type": "markdown",
   "id": "2395859b",
   "metadata": {},
   "source": [
    "In this data analysis project, we explored a dataset containing information about individuals' sex, gender, age, number of children, BMI, smoking status, region, and the cost of their medical insurance. The goal was to gain insights into the factors influencing insurance costs and identify any patterns or trends within the data.\n",
    "\n",
    "By analyzing the dataset, we found several significant findings. Firstly, age was found to have a noticeable impact on medical insurance costs, with statistically significant differences observed between different age groups. Secondly, there was a correlation between BMI and insurance costs, with higher BMI categories associated with higher average medical expenses. Sex was also found to play a role, as males had higher average insurance costs compared to females.\n",
    "\n",
    "Furthermore, the number of children had an impact on insurance costs, with individuals having 2 or 3 children experiencing the highest costs, while those with 5 children had the lowest costs. Smoking status was another influential factor, as smokers were found to have higher medical insurance costs compared to non-smokers.\n",
    "\n",
    "Lastly, regional variations were observed, with the Southeast region having the highest average insurance costs and the Southwest region having the lowest costs.\n",
    "\n",
    "Overall, this analysis provides valuable insights into the relationships between various factors and medical insurance costs. These findings can be utilized by insurance providers, policymakers, and individuals to better understand the drivers of insurance expenses and potentially make informed decisions related to insurance coverage."
   ]
  },
  {
   "cell_type": "code",
   "execution_count": null,
   "id": "0f3d3567",
   "metadata": {},
   "outputs": [],
   "source": []
  }
 ],
 "metadata": {
  "kernelspec": {
   "display_name": "Python 3 (ipykernel)",
   "language": "python",
   "name": "python3"
  },
  "language_info": {
   "codemirror_mode": {
    "name": "ipython",
    "version": 3
   },
   "file_extension": ".py",
   "mimetype": "text/x-python",
   "name": "python",
   "nbconvert_exporter": "python",
   "pygments_lexer": "ipython3",
   "version": "3.9.13"
  }
 },
 "nbformat": 4,
 "nbformat_minor": 5
}
