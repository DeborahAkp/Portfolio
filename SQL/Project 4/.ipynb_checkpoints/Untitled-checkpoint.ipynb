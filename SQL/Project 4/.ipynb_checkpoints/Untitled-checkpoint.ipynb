{
 "cells": [
  {
   "cell_type": "code",
   "execution_count": 39,
   "id": "6714957c",
   "metadata": {},
   "outputs": [],
   "source": [
    "import pandas as pd \n",
    "import matplotlib.pyplot as plt\n",
    "import seaborn as sns\n",
    "%matplotlib inline"
   ]
  },
  {
   "cell_type": "code",
   "execution_count": 40,
   "id": "2cbd791e",
   "metadata": {},
   "outputs": [],
   "source": [
    "df = pd.read_csv('MFG10YearTerminationData.csv')"
   ]
  },
  {
   "cell_type": "code",
   "execution_count": 41,
   "id": "066404ba",
   "metadata": {},
   "outputs": [
    {
     "name": "stdout",
     "output_type": "stream",
     "text": [
      "<class 'pandas.core.frame.DataFrame'>\n",
      "RangeIndex: 49653 entries, 0 to 49652\n",
      "Data columns (total 18 columns):\n",
      " #   Column               Non-Null Count  Dtype \n",
      "---  ------               --------------  ----- \n",
      " 0   EmployeeID           49653 non-null  int64 \n",
      " 1   recorddate_key       49653 non-null  object\n",
      " 2   birthdate_key        49653 non-null  object\n",
      " 3   orighiredate_key     49653 non-null  object\n",
      " 4   terminationdate_key  49653 non-null  object\n",
      " 5   age                  49653 non-null  int64 \n",
      " 6   length_of_service    49653 non-null  int64 \n",
      " 7   city_name            49653 non-null  object\n",
      " 8   department_name      49653 non-null  object\n",
      " 9   job_title            49653 non-null  object\n",
      " 10  store_name           49653 non-null  int64 \n",
      " 11  gender_short         49653 non-null  object\n",
      " 12  gender_full          49653 non-null  object\n",
      " 13  termreason_desc      49653 non-null  object\n",
      " 14  termtype_desc        49653 non-null  object\n",
      " 15  STATUS_YEAR          49653 non-null  int64 \n",
      " 16  STATUS               49653 non-null  object\n",
      " 17  BUSINESS_UNIT        49653 non-null  object\n",
      "dtypes: int64(5), object(13)\n",
      "memory usage: 6.8+ MB\n"
     ]
    }
   ],
   "source": [
    "df.info()"
   ]
  },
  {
   "cell_type": "code",
   "execution_count": 42,
   "id": "c932fc62",
   "metadata": {},
   "outputs": [
    {
     "data": {
      "text/plain": [
       "city_name\n",
       "Abbotsford            681\n",
       "Aldergrove            520\n",
       "Bella Bella           126\n",
       "Blue River              9\n",
       "Burnaby              2067\n",
       "Chilliwack           1167\n",
       "Cortes Island          43\n",
       "Cranbrook            1785\n",
       "Dawson Creek          129\n",
       "Dease Lake             18\n",
       "Fort Nelson           322\n",
       "Fort St John          621\n",
       "Grand Forks           236\n",
       "Haney                 182\n",
       "Kamloops             2061\n",
       "Kelowna              2513\n",
       "Langley               901\n",
       "Nanaimo              3876\n",
       "Nelson                317\n",
       "New Westminister      254\n",
       "New Westminster      3211\n",
       "North Vancouver       648\n",
       "Ocean Falls            65\n",
       "Pitt Meadows           57\n",
       "Port Coquitlam        545\n",
       "Prince George        2048\n",
       "Princeton             136\n",
       "Quesnel               703\n",
       "Richmond             1401\n",
       "Squamish              806\n",
       "Surrey               1560\n",
       "Terrace              1228\n",
       "Trail                 925\n",
       "Valemount              37\n",
       "Vancouver           11211\n",
       "Vernon                898\n",
       "Victoria             4885\n",
       "West Vancouver        613\n",
       "White Rock            231\n",
       "Williams Lake         617\n",
       "Name: city_name, dtype: int64"
      ]
     },
     "execution_count": 42,
     "metadata": {},
     "output_type": "execute_result"
    }
   ],
   "source": [
    "df.groupby('city_name')['city_name'].count()"
   ]
  },
  {
   "cell_type": "code",
   "execution_count": 43,
   "id": "39fcf9fc",
   "metadata": {},
   "outputs": [
    {
     "data": {
      "text/plain": [
       "department_name\n",
       "Accounting                   59\n",
       "Accounts Payable             34\n",
       "Accounts Receiveable         39\n",
       "Audit                        24\n",
       "Bakery                     8381\n",
       "Compensation                 24\n",
       "Customer Service           7122\n",
       "Dairy                      8599\n",
       "Employee Records             44\n",
       "Executive                   100\n",
       "HR Technology                64\n",
       "Information Technology       20\n",
       "Investment                   24\n",
       "Labor Relations              34\n",
       "Legal                        17\n",
       "Meats                     10269\n",
       "Processed Foods            5911\n",
       "Produce                    8515\n",
       "Recruitment                  72\n",
       "Store Management            271\n",
       "Training                     30\n",
       "Name: department_name, dtype: int64"
      ]
     },
     "execution_count": 43,
     "metadata": {},
     "output_type": "execute_result"
    }
   ],
   "source": [
    "df.groupby('department_name')['department_name'].count()"
   ]
  },
  {
   "cell_type": "code",
   "execution_count": 44,
   "id": "966588a2",
   "metadata": {},
   "outputs": [
    {
     "data": {
      "text/plain": [
       "job_title\n",
       "Accounting Clerk                     50\n",
       "Accounts Payable Clerk               25\n",
       "Accounts Receiveable Clerk           30\n",
       "Auditor                              20\n",
       "Baker                              8096\n",
       "Bakery Manager                      285\n",
       "Benefits Admin                       35\n",
       "CEO                                  10\n",
       "CHief Information Officer            10\n",
       "Cashier                            6816\n",
       "Compensation Analyst                 20\n",
       "Corporate Lawyer                     17\n",
       "Customer Service Manager            306\n",
       "Dairy Manager                         9\n",
       "Dairy Person                       8590\n",
       "Director, Accounting                  9\n",
       "Director, Accounts Payable            9\n",
       "Director, Accounts Receivable         9\n",
       "Director, Audit                       4\n",
       "Director, Compensation                4\n",
       "Director, Employee Records            9\n",
       "Director, HR Technology               9\n",
       "Director, Investments                 4\n",
       "Director, Labor Relations             4\n",
       "Director, Recruitment                10\n",
       "Director, Training                    4\n",
       "Exec Assistant, Finance              10\n",
       "Exec Assistant, Human Resources      10\n",
       "Exec Assistant, Legal Counsel        10\n",
       "Exec Assistant, VP Stores            10\n",
       "HRIS Analyst                         55\n",
       "Investment Analyst                   20\n",
       "Labor Relations Analyst              30\n",
       "Legal Counsel                        10\n",
       "Meat Cutter                        9984\n",
       "Meats Manager                       285\n",
       "Processed Foods Manager             289\n",
       "Produce Clerk                      8237\n",
       "Produce Manager                     278\n",
       "Recruiter                            62\n",
       "Shelf Stocker                      5622\n",
       "Store Manager                       271\n",
       "Systems Analyst                      20\n",
       "Trainer                              26\n",
       "VP Finance                           10\n",
       "VP Human Resources                   10\n",
       "VP Stores                            10\n",
       "Name: job_title, dtype: int64"
      ]
     },
     "execution_count": 44,
     "metadata": {},
     "output_type": "execute_result"
    }
   ],
   "source": [
    "df.groupby('job_title')['job_title'].count()"
   ]
  },
  {
   "cell_type": "code",
   "execution_count": 51,
   "id": "78472c8d",
   "metadata": {},
   "outputs": [],
   "source": [
    "def change_name(x): \n",
    "    if 'Director,' in x: \n",
    "        x = 'Director'\n",
    "        return x\n",
    "    elif 'Exec Assistant,'in x:\n",
    "        x = 'Executive Assistant'\n",
    "        return x\n",
    "    elif x == 'CHief Information Officer':\n",
    "        x = 'Chief Information Officer'\n",
    "        return x\n",
    "    elif 'VP'in x:\n",
    "        x = 'VP'\n",
    "        return x\n",
    "    else: \n",
    "        x = x\n",
    "        return x\n",
    "\n",
    "df['job_mod'] = df['job_title'].apply(lambda x: change_name(x))"
   ]
  },
  {
   "cell_type": "code",
   "execution_count": 52,
   "id": "1d90ba84",
   "metadata": {},
   "outputs": [
    {
     "data": {
      "text/plain": [
       "job_mod\n",
       "Accounting Clerk                50\n",
       "Accounts Payable Clerk          25\n",
       "Accounts Receiveable Clerk      30\n",
       "Auditor                         20\n",
       "Baker                         8096\n",
       "Bakery Manager                 285\n",
       "Benefits Admin                  35\n",
       "CEO                             10\n",
       "Cashier                       6816\n",
       "Chief Information Officer       10\n",
       "Compensation Analyst            20\n",
       "Corporate Lawyer                17\n",
       "Customer Service Manager       306\n",
       "Dairy Manager                    9\n",
       "Dairy Person                  8590\n",
       "Director                        75\n",
       "Executive Assistant             40\n",
       "HRIS Analyst                    55\n",
       "Investment Analyst              20\n",
       "Labor Relations Analyst         30\n",
       "Legal Counsel                   10\n",
       "Meat Cutter                   9984\n",
       "Meats Manager                  285\n",
       "Processed Foods Manager        289\n",
       "Produce Clerk                 8237\n",
       "Produce Manager                278\n",
       "Recruiter                       62\n",
       "Shelf Stocker                 5622\n",
       "Store Manager                  271\n",
       "Systems Analyst                 20\n",
       "Trainer                         26\n",
       "VP                              30\n",
       "Name: job_mod, dtype: int64"
      ]
     },
     "execution_count": 52,
     "metadata": {},
     "output_type": "execute_result"
    }
   ],
   "source": [
    "df.groupby('job_mod')['job_mod'].count()"
   ]
  },
  {
   "cell_type": "code",
   "execution_count": 53,
   "id": "c5e87337",
   "metadata": {},
   "outputs": [
    {
     "data": {
      "text/plain": [
       "<pandas.core.groupby.generic.DataFrameGroupBy object at 0x7fac14396fd0>"
      ]
     },
     "execution_count": 53,
     "metadata": {},
     "output_type": "execute_result"
    }
   ],
   "source": [
    "df.groupby('city_name').count()"
   ]
  },
  {
   "cell_type": "code",
   "execution_count": null,
   "id": "81ea9b35",
   "metadata": {},
   "outputs": [],
   "source": []
  }
 ],
 "metadata": {
  "kernelspec": {
   "display_name": "Python 3 (ipykernel)",
   "language": "python",
   "name": "python3"
  },
  "language_info": {
   "codemirror_mode": {
    "name": "ipython",
    "version": 3
   },
   "file_extension": ".py",
   "mimetype": "text/x-python",
   "name": "python",
   "nbconvert_exporter": "python",
   "pygments_lexer": "ipython3",
   "version": "3.9.13"
  }
 },
 "nbformat": 4,
 "nbformat_minor": 5
}
